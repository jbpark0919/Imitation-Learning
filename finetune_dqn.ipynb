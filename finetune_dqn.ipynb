{
 "cells": [
  {
   "cell_type": "code",
   "execution_count": 18,
   "id": "ab9e2e54",
   "metadata": {
    "ExecuteTime": {
     "end_time": "2025-06-13T03:03:14.357752Z",
     "start_time": "2025-06-13T03:03:14.343198Z"
    }
   },
   "outputs": [],
   "source": [
    "import os\n",
    "import matplotlib.pyplot as plt\n",
    "from IPython.display import clear_output\n",
    "\n",
    "import numpy as np\n",
    "import gymnasium as gym\n",
    "import matplotlib.pyplot as plt\n",
    "from matplotlib.animation import FuncAnimation\n",
    "import matplotlib\n",
    "from IPython.display import HTML\n",
    "\n",
    "import torch\n",
    "import torch.nn as nn\n",
    "import torch.nn.functional as F\n",
    "\n",
    "from src.CNN import CNNActionValue\n",
    "from src.evaluate import evaluate\n",
    "from src.DQN import DQN\n",
    "# import src.DQN as DQN\n",
    "from src.Preprocess import preprocess, ImageEnv"
   ]
  },
  {
   "cell_type": "code",
   "execution_count": 19,
   "id": "d0b20806",
   "metadata": {
    "ExecuteTime": {
     "end_time": "2025-06-13T03:03:16.227394Z",
     "start_time": "2025-06-13T03:03:16.211962Z"
    }
   },
   "outputs": [],
   "source": [
    "def evaluate(n_evals=5):\n",
    "    eval_env = gym.make('CarRacing-v3', continuous=False)\n",
    "    eval_env = ImageEnv(eval_env)\n",
    "    \n",
    "    scores = 0\n",
    "    for i in range(n_evals):\n",
    "        (s, _), done, ret = eval_env.reset(), False, 0\n",
    "        while not done:\n",
    "            a = agent.act(s, training=False)\n",
    "            s_prime, r, terminated, truncated, info = eval_env.step(a)\n",
    "            s = s_prime\n",
    "            ret += r\n",
    "            done = terminated or truncated\n",
    "        scores += ret\n",
    "    return np.round(scores / n_evals, 4)"
   ]
  },
  {
   "cell_type": "code",
   "execution_count": 20,
   "id": "70a9b5c1",
   "metadata": {
    "ExecuteTime": {
     "end_time": "2025-06-13T03:03:16.757726Z",
     "start_time": "2025-06-13T03:03:16.582053Z"
    },
    "code_folding": []
   },
   "outputs": [],
   "source": [
    "def finetune_bc_with_dqn(\n",
    "    bc_model_path=\"bc_model.pt\",\n",
    "    max_steps=300000,\n",
    "    eval_interval=1000\n",
    "):\n",
    "    env = gym.make(\"CarRacing-v3\", continuous=False, render_mode=None)\n",
    "    state_dim = (4, 84, 84)\n",
    "    action_dim = 5\n",
    "\n",
    "    global agent\n",
    "    agent = DQN(\n",
    "        state_dim=state_dim,\n",
    "        action_dim=action_dim,\n",
    "        epsilon=0.1,\n",
    "        lr=0.00001\n",
    "    )\n",
    "\n",
    "    bc_weights = torch.load(bc_model_path, map_location=agent.device)\n",
    "    agent.network.load_state_dict(bc_weights)\n",
    "    agent.target_network.load_state_dict(bc_weights)\n",
    "\n",
    "    history = {'Step': [], 'AvgReturn': []}\n",
    "    s, _ = env.reset()\n",
    "    frames = [preprocess(s)] * 4\n",
    "\n",
    "    while True:\n",
    "        state_input = np.stack(frames, axis=0)\n",
    "        a = agent.act(state_input)\n",
    "        s_prime, r, terminated, truncated, _ = env.step(a)\n",
    "        next_frame = preprocess(s_prime)\n",
    "        next_frames = frames[1:] + [next_frame]\n",
    "\n",
    "        result = agent.process((state_input, [a], r, np.stack(next_frames, axis=0), float(terminated or truncated)))\n",
    "        frames = next_frames\n",
    "\n",
    "        if terminated or truncated:\n",
    "            s, _ = env.reset()\n",
    "            frames = [preprocess(s)] * 4\n",
    "\n",
    "        if agent.total_steps % eval_interval == 0:\n",
    "            avg_ret = evaluate()\n",
    "            history['Step'].append(agent.total_steps)\n",
    "            history['AvgReturn'].append(avg_ret)\n",
    "\n",
    "            clear_output(wait=True)\n",
    "            plt.figure(figsize=(8, 5))\n",
    "            plt.plot(history['Step'], history['AvgReturn'], 'r-')\n",
    "            plt.xlabel('Step', fontsize=16)\n",
    "            plt.ylabel('AvgReturn', fontsize=16)\n",
    "            plt.xticks(fontsize=14)\n",
    "            plt.yticks(fontsize=14)\n",
    "            plt.grid(axis='y')\n",
    "            plt.show()\n",
    "\n",
    "            torch.save(agent.network.state_dict(), 'finetuned_dqn.pt')\n",
    "\n",
    "        if agent.total_steps > max_steps:\n",
    "            break\n",
    "\n",
    "    # 최종 그래프 저장\n",
    "    os.makedirs(\"plots\", exist_ok=True)\n",
    "    plt.figure(figsize=(8, 5))\n",
    "    plt.plot(history['Step'], history['AvgReturn'], 'r-')\n",
    "    plt.xlabel('Step', fontsize=16)\n",
    "    plt.ylabel('AvgReturn', fontsize=16)\n",
    "    plt.xticks(fontsize=14)\n",
    "    plt.yticks(fontsize=14)\n",
    "    plt.grid(axis='y')\n",
    "    plt.savefig(\"plots/AvgReturn_Imitation_Reinforcement.png\")\n",
    "    plt.show()\n",
    "\n",
    "    print(\"Fine-tuning finished and saved.\")"
   ]
  },
  {
   "cell_type": "code",
   "execution_count": null,
   "id": "127d2840",
   "metadata": {
    "ExecuteTime": {
     "start_time": "2025-06-13T03:03:16.918Z"
    }
   },
   "outputs": [],
   "source": [
    "if __name__ == \"__main__\":\n",
    "    finetune_bc_with_dqn()"
   ]
  },
  {
   "cell_type": "code",
   "execution_count": 4,
   "id": "a959dbf2",
   "metadata": {
    "ExecuteTime": {
     "end_time": "2025-06-13T02:58:53.472425Z",
     "start_time": "2025-06-13T02:58:27.139295Z"
    }
   },
   "outputs": [
    {
     "name": "stderr",
     "output_type": "stream",
     "text": [
      "/opt/conda/envs/imitation_learning_DQN/lib/python3.9/site-packages/pygame/pkgdata.py:25: UserWarning: pkg_resources is deprecated as an API. See https://setuptools.pypa.io/en/latest/pkg_resources.html. The pkg_resources package is slated for removal as early as 2025-11-30. Refrain from using this package or pin to Setuptools<81.\n",
      "  from pkg_resources import resource_stream, resource_exists\n"
     ]
    }
   ],
   "source": [
    "eval_env = gym.make('CarRacing-v3', continuous=False, render_mode='rgb_array')\n",
    "eval_env = ImageEnv(eval_env)\n",
    "\n",
    "state_dim = (4, 84, 84)\n",
    "action_dim = eval_env.action_space.n\n",
    "\n",
    "agent = DQN.DQN(state_dim, action_dim)\n",
    "agent.network.load_state_dict(torch.load('finetuned_dqn_84.pt'))  # 저장된 파라미터 로드\n",
    "agent.network.eval()\n",
    "\n",
    "frames = []\n",
    "scores = 0\n",
    "(s, _), done, ret = eval_env.reset(), False, 0\n",
    "while not done:\n",
    "    frames.append(eval_env.render())\n",
    "    a = agent.act(s, training=False)\n",
    "    s_prime, r, terminated, truncated, info = eval_env.step(a)\n",
    "    s = s_prime\n",
    "    ret += r\n",
    "    done = terminated or truncated\n",
    "scores += ret"
   ]
  },
  {
   "cell_type": "code",
   "execution_count": 5,
   "id": "3b0361c1",
   "metadata": {
    "ExecuteTime": {
     "end_time": "2025-06-13T02:59:30.416331Z",
     "start_time": "2025-06-13T02:58:53.476838Z"
    }
   },
   "outputs": [
    {
     "data": {
      "image/png": "[encoded data removed]",
      "text/plain": [
       "<Figure size 640x480 with 1 Axes>"
      ]
     },
     "metadata": {},
     "output_type": "display_data"
    }
   ],
   "source": [
    "import matplotlib.animation as animation\n",
    "fig = plt.figure()\n",
    "ims = []\n",
    "\n",
    "for frame in frames:\n",
    "    im = plt.imshow(frame, animated=True)\n",
    "    ims.append([im])\n",
    "\n",
    "ani = animation.ArtistAnimation(fig, ims, interval=50, blit=True)\n",
    "\n",
    "# 애니메이션을 저장\n",
    "ani.save('car_racing_result_imitation_reinforcement.gif', writer='pillow')\n",
    "\n",
    "plt.show()"
   ]
  }
 ],
 "metadata": {
  "kernelspec": {
   "display_name": "imitation_learning_DQN",
   "language": "python",
   "name": "imitation_learning_dqn"
  },
  "language_info": {
   "codemirror_mode": {
    "name": "ipython",
    "version": 3
   },
   "file_extension": ".py",
   "mimetype": "text/x-python",
   "name": "python",
   "nbconvert_exporter": "python",
   "pygments_lexer": "ipython3",
   "version": "3.9.23"
  },
  "toc": {
   "base_numbering": 1,
   "nav_menu": {},
   "number_sections": false,
   "sideBar": true,
   "skip_h1_title": false,
   "title_cell": "Table of Contents",
   "title_sidebar": "Contents",
   "toc_cell": false,
   "toc_position": {},
   "toc_section_display": true,
   "toc_window_display": false
  }
 },
 "nbformat": 4,
 "nbformat_minor": 5
}
